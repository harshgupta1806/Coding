{
 "cells": [
  {
   "cell_type": "code",
   "execution_count": null,
   "metadata": {},
   "outputs": [],
   "source": [
    "# ->for working n-dimensional arrays\n",
    "# ->number of dimensions of the array is called rank of the array\n",
    "# ->An array class in Numpy is called as ndarray\n",
    "# ->They offer automatic vectorization and broadcasting.\n",
    "# ->They provide efficient memory management, ufuncs(universal functions), support various data types, and are flexible with Indexing and slicing. \n",
    "# ->Since, sliced array holds a range of elements of the original array, modifying content with the help of sliced array modifies the original array content.\n",
    "# Methods in Numpy:\n",
    "\n",
    "#     https://www.geeksforgeeks.org/python-numpy/#:~:text=dtype%20in%20NumPy-,Methods%20in%20Numpy%3A,-all()\n",
    "\n",
    "# Why is the Numpy Array so Fast?\n",
    "#     ->Homogeneous Data\n",
    "#     ->Fixed Data type\n",
    "#     ->contiguous memory\n",
    "# Data Allocation in Numpy Array:\n",
    "#     ->data is allocated contiguously in memory,\n",
    "#     ->well-defined layout consisting of:\n",
    "#         ->data buffer:\n",
    "#             ->single, flat block of memory that stores the actual elements of the array, regardless of its dimensionality\n",
    "#         ->shape:\n",
    "#             ->tuple of integers that represents the dimensions along each axis\n",
    "#         ->Strides: \n",
    "#             ->Strides are tuples of integers that define the number of bytes to step in each dimension when moving from one element to the next.\n",
    "        \n",
    "# Vectorization in Python:\n",
    "#     ->code is computationally efficient, we will use vectorization.\n",
    "#     ->Vectorization is used to speed up the Python code without using loop. Using such a function can help in minimizing the running time of code efficiently\n",
    "\n",
    "\n",
    "# What is NumPy Array Broadcasting:\n",
    "#     ->Broadcasting provides a means of vectorizing array operations, therefore eliminating the need for Python loops. This is because NumPy is implemented in C Programming, which is a very efficient language.\n",
    "\n",
    "# Syntax: numpy.fromiter(iterable, dtype, count=-1)\n",
    "# Syntax:  numpy.arange( start , stop, step , dtype=None )\n",
    "# Syntax: numpy.linspace(start, stop, num=50, endpoint=True, retstep=False, dtype=None, axis=0)\n",
    "\n",
    "\n",
    "# ->The list can be homogeneous or heterogeneous.\n",
    "# ->Elements of a list need not be contiguous in memory.\n",
    "\n",
    "# Comparison between Numpy array and Python List:\n",
    "#     Python Lists:\n",
    "#         ->Element Overhead(additional info)\n",
    "#         ->Datatype(memory efficiency)\n",
    "#         ->Memory Fragmentation(not contiguous)\n",
    "#         ->Performance\n",
    "#         ->Functionality\n",
    "#     NumPy Arrays:\n",
    "#         ->Numpy Arrays\n",
    "#             ->Homogeneous Data\n",
    "#             ->Fixed Data Type\n",
    "#             ->Contiguous Memory\n",
    "#             ->Array Metadata\n",
    "#             ->Performance\n",
    "\n",
    "# Advantages of using Numpy Arrays Over Python Lists:\n",
    "#     ->Consumes less memory.\n",
    "#     ->Fast as compared to the python List.\n",
    "#     ->Convenient to use.\n",
    "\n",
    "# ->print(\"No. of dimensions: \", arr.ndim)\n"
   ]
  },
  {
   "cell_type": "code",
   "execution_count": 156,
   "metadata": {},
   "outputs": [],
   "source": [
    "\n",
    "import array\n",
    "import numpy as np\n",
    "from matplotlib import pyplot as plt"
   ]
  },
  {
   "cell_type": "code",
   "execution_count": null,
   "metadata": {},
   "outputs": [],
   "source": [
    "arr = np.array([[[1, 2], [3, 4]],\n",
    "                [[5, 6], [7, 8]]])\n",
    "\n",
    "arr1=arr.sum(axis=0)\n",
    "arr2=arr.sum(axis=1)\n",
    "arr3=arr.sum(axis=2)\n",
    "print(arr1)\n",
    "print(arr2)\n",
    "print(arr3)\n",
    "\n",
    "# Index_arr = arr[[1, 1, 0, 3], \n",
    "#                 [3, 2, 1, 0]]\n",
    "# print (\"\\nElements at indices (1, 3), \"\n",
    "#     \"(1, 2), (0, 1), (3, 0):\\n\", Index_arr)\n",
    "\n",
    "# arr=np.array([\"a\",\"b\",\"raghav\"])\n",
    "# print(arr[:2])\n",
    "# ['a' 'b']"
   ]
  },
  {
   "cell_type": "code",
   "execution_count": null,
   "metadata": {},
   "outputs": [],
   "source": [
    "# array[start:stop:step]\n",
    "# array[row_slice, column_slice]"
   ]
  },
  {
   "cell_type": "code",
   "execution_count": null,
   "metadata": {},
   "outputs": [],
   "source": [
    "# Create a sequence of integers from 10 to 1 with a step of -2\n",
    "a = np.arange(10, 1, -2) \n",
    "print(\"\\n A sequential array with a negative step: \\n\",a)\n",
    "# Indexes are specified inside the np.array method.\n",
    "newarr = a[[0,1,2]]\n",
    "# newarr = a[np.array([3, 1, 2 ])]\n",
    "print(\"\\n Elements at these indices are:\\n\",newarr)\n"
   ]
  },
  {
   "cell_type": "code",
   "execution_count": null,
   "metadata": {},
   "outputs": [],
   "source": [
    "a = np.arange(20) \n",
    "print(\"\\n Array is:\\n \",a) \n",
    "print(\"\\n a[15]=\",a[15])\n",
    "# a[start:stop:step]\n",
    "print(\"\\n a[-8:17:1] = \",a[-8:17:1]) \n",
    "print(\"\\n a[10:] = \",a[10:])\n",
    "\n",
    "b = np.array([[[1, 2, 3],[4, 5, 6]], \n",
    "                [[7, 8, 9],[10, 11, 12]]]) \n",
    "print(b[...,1]) #Equivalent to b[: ,: ,1 ]\n",
    "print(b[: ,: ,: ])\n"
   ]
  },
  {
   "cell_type": "code",
   "execution_count": null,
   "metadata": {},
   "outputs": [],
   "source": [
    "# You may wish to select those elements whose\n",
    "# sum of row is a multiple of 10.\n",
    "\n",
    "b = np.array([[5, 5],[4, 5],[16, 4]])\n",
    "sumrow = b.sum(1)\n",
    "# print(sumrow)\n",
    "print(b[sumrow%10==0])"
   ]
  },
  {
   "cell_type": "code",
   "execution_count": null,
   "metadata": {},
   "outputs": [],
   "source": [
    "a=np.array([1,2,3])\n",
    "b=np.array([4,5,6])\n",
    "\n",
    "c=np.dot(a,b)\n",
    "d=np.outer(a,b)\n",
    "e=np.multiply(a,b)\n",
    "print(c)\n",
    "print(d)\n",
    "print(e)\n",
    "\n",
    "# array are compatible because of same Dimension \n",
    "# c = a * b"
   ]
  },
  {
   "cell_type": "code",
   "execution_count": null,
   "metadata": {},
   "outputs": [],
   "source": [
    "macros = np.array([ \n",
    "  [0.8, 2.9, 3.9], \n",
    "  [52.4, 23.6, 36.5], \n",
    "  [55.2, 31.7, 23.9], \n",
    "  [14.4, 11, 4.9] \n",
    "   ]) \n",
    "  \n",
    "result = np.zeros_like(macros) \n",
    "  \n",
    "cal_per_macro = np.array([3, 3, 8]) \n",
    "  \n",
    "for i in range(macros.shape[0]): \n",
    "    result[i, :] = macros[i, :] * cal_per_macro \n",
    "\n",
    "result"
   ]
  },
  {
   "cell_type": "code",
   "execution_count": null,
   "metadata": {},
   "outputs": [],
   "source": [
    "v = np.array([1, 2, 3])   \n",
    "w = np.array([4, 5])     \n",
    "  \n",
    "# Outer product of vectors v and w \n",
    "print(np.reshape(v, (3, 1)) * w)"
   ]
  },
  {
   "cell_type": "code",
   "execution_count": null,
   "metadata": {},
   "outputs": [],
   "source": [
    "import numpy as np \n",
    "import matplotlib.pyplot as plt \n",
    "  \n",
    "# Computes x and y coordinates for  \n",
    "# points on sine and cosine curves \n",
    "x = np.arange(0, 3 * np.pi, 0.1) \n",
    "y_sin = np.sin(x) \n",
    "y_cos = np.cos(x) \n",
    "  \n",
    "# Plot the points using matplotlib \n",
    "plt.plot(x, y_sin) \n",
    "plt.plot(x, y_cos) \n",
    "plt.xlabel('x axis label') \n",
    "plt.ylabel('y axis label') \n",
    "plt.title('Sine and Cosine') \n",
    "plt.legend(['Sine', 'Cosine']) \n",
    "  \n",
    "plt.show()"
   ]
  },
  {
   "cell_type": "code",
   "execution_count": null,
   "metadata": {},
   "outputs": [],
   "source": [
    "iterable = (a*a for a in range(8))\n",
    "type(iterable)\n",
    "arr = np.fromiter(iterable, float)\n",
    "print(arr)"
   ]
  },
  {
   "cell_type": "code",
   "execution_count": null,
   "metadata": {},
   "outputs": [],
   "source": [
    "np.linspace(3.5, 10, 5,endpoint=False,retstep=True,axis=0)"
   ]
  },
  {
   "cell_type": "code",
   "execution_count": null,
   "metadata": {},
   "outputs": [],
   "source": [
    "# Syntax: numpy.empty(shape, dtype=float, order=’C’)\n",
    "np.empty([4, 3],dtype = np.float64)"
   ]
  },
  {
   "cell_type": "code",
   "execution_count": null,
   "metadata": {},
   "outputs": [],
   "source": [
    "# Syntax: numpy.ones(shape, dtype=None, order=’C’)\n",
    "# Syntax: numpy.zeros(shape, dtype=None)"
   ]
  },
  {
   "cell_type": "code",
   "execution_count": null,
   "metadata": {},
   "outputs": [],
   "source": [
    "Var = [[[1]], [\"for\"], \"Geeks\",3.0]\n",
    "print(Var)"
   ]
  },
  {
   "cell_type": "code",
   "execution_count": null,
   "metadata": {},
   "outputs": [],
   "source": [
    "# Python program to demonstrate\n",
    "# basic array characteristics\n",
    "import numpy as np\n",
    "\n",
    "# Creating array object\n",
    "arr = np.array([[1, 2, 3],\n",
    "                [4, 2, 5]])\n",
    "\n",
    "# Printing type of arr object\n",
    "print(\"Array is of type: \", type(arr))\n",
    "\n",
    "# Printing array dimensions (axes)\n",
    "print(\"No. of dimensions: \", arr.ndim)\n",
    "\n",
    "# Printing shape of array\n",
    "print(\"Shape of array: \", arr.shape)\n",
    "\n",
    "# Printing size (total number of elements) of array\n",
    "print(\"Size of array: \", arr.size)\n",
    "\n",
    "# Printing type of elements in array\n",
    "print(\"Array stores elements of type: \", arr.dtype)"
   ]
  },
  {
   "cell_type": "code",
   "execution_count": null,
   "metadata": {},
   "outputs": [],
   "source": [
    "# Create a constant value array of complex type\n",
    "d = np.full((3, 3), 6, dtype='complex')\n",
    "print(d)"
   ]
  },
  {
   "cell_type": "code",
   "execution_count": null,
   "metadata": {},
   "outputs": [],
   "source": [
    "# Python program to demonstrate\n",
    "# indexing in numpy\n",
    "import numpy as np\n",
    "\n",
    "# An exemplar array\n",
    "arr = np.array([[-1, 2, 0, 4],\n",
    "                [4, -0.5, 6, 0],\n",
    "                [2.6, 0, 7, 8],\n",
    "                [3, -7, 4, 2.0]])\n",
    "\n",
    "# Slicing array\n",
    "temp = arr[:2, ::2]\n",
    "print(\"Array with first 2 rows and alternate\"\n",
    "      \"columns(0 and 2):\\n\", temp)\n",
    "\n",
    "# Integer array indexing example\n",
    "temp = arr[[0, 1, 2, 3], [3, 2, 1, 0]]\n",
    "print(\"\\nElements at indices (0, 3), (1, 2), (2, 1),\"\n",
    "      \"(3, 0):\\n\", temp)\n",
    "\n",
    "# boolean array indexing example\n",
    "cond = arr > 0  # cond is a boolean array\n",
    "temp = arr[cond]\n",
    "print(\"\\nElements greater than 0:\\n\", temp)"
   ]
  },
  {
   "cell_type": "code",
   "execution_count": null,
   "metadata": {},
   "outputs": [],
   "source": [
    "# Python program to demonstrate\n",
    "# basic operations on single array\n",
    "import numpy as np\n",
    "\n",
    "a = np.array([1, 2, 5, 3])\n",
    "\n",
    "# add 1 to every element\n",
    "print(\"Adding 1 to every element:\", a+1)\n",
    "\n",
    "# subtract 3 from each element\n",
    "print(\"Subtracting 3 from each element:\", a-3)\n",
    "\n",
    "# multiply each element by 10\n",
    "print(\"Multiplying each element by 10:\", a*10)\n",
    "\n",
    "# square each element\n",
    "print(\"Squaring each element:\", a**2)\n",
    "\n",
    "# modify existing array\n",
    "a *= 2\n",
    "print(\"Doubled each element of original array:\", a)\n",
    "\n",
    "# transpose of array\n",
    "a = np.array([[1, 2, 3], [3, 4, 5], [9, 6, 0]])\n",
    "\n",
    "print(\"\\nOriginal array:\\n\", a)\n",
    "print(\"Transpose of array:\\n\", a.T)"
   ]
  },
  {
   "cell_type": "code",
   "execution_count": null,
   "metadata": {},
   "outputs": [],
   "source": [
    "# Python program to demonstrate\n",
    "# unary operators in numpy\n",
    "import numpy as np\n",
    "\n",
    "arr = np.array([[1, 5, 6],\n",
    "                [4, 7, 2],\n",
    "                [3, 1, 9]])\n",
    "\n",
    "# maximum element of array\n",
    "print(\"Largest element is:\", arr.max())\n",
    "print(\"Row-wise maximum elements:\",\n",
    "      arr.max(axis=1))\n",
    "\n",
    "# minimum element of array\n",
    "print(\"Column-wise minimum elements:\",\n",
    "      arr.min(axis=0))\n",
    "\n",
    "# sum of array elements\n",
    "print(\"Sum of all array elements:\",\n",
    "      arr.sum())\n",
    "\n",
    "# cumulative sum along each row\n",
    "print(\"Cumulative sum along each row:\\n\",\n",
    "      arr.cumsum(axis=1))\n",
    "# cumulative sum along each col\n",
    "print(\"Cumulative sum along each col:\\n\",\n",
    "      arr.cumsum(axis=0))"
   ]
  },
  {
   "cell_type": "code",
   "execution_count": null,
   "metadata": {},
   "outputs": [],
   "source": [
    "# Python program to demonstrate\n",
    "# binary operators in Numpy\n",
    "import numpy as np\n",
    "\n",
    "a = np.array([[1, 2],\n",
    "              [3, 4]])\n",
    "b = np.array([[4, 3],\n",
    "              [2, 1]])\n",
    "\n",
    "# add arrays\n",
    "print(\"Array sum:\\n\", a + b)\n",
    "\n",
    "# multiply arrays (elementwise multiplication)\n",
    "print(\"Array multiplication:\\n\", a*b)\n",
    "\n",
    "# matrix multiplication\n",
    "print(\"Matrix multiplication:\\n\", a.dot(b))"
   ]
  },
  {
   "cell_type": "code",
   "execution_count": null,
   "metadata": {},
   "outputs": [],
   "source": [
    "# Python program to demonstrate\n",
    "# universal functions in numpy\n",
    "import numpy as np\n",
    "\n",
    "# create an array of sine values\n",
    "a = np.array([0, np.pi/2, np.pi])\n",
    "print(\"Sine values of array elements:\", np.sin(a))\n",
    "\n",
    "# exponential values\n",
    "a = np.array([0, 1, 2, 3])\n",
    "print(\"Exponent of array elements:\", np.exp(a))\n",
    "\n",
    "# square root of array values\n",
    "print(\"Square root of array elements:\", np.sqrt(a))"
   ]
  },
  {
   "cell_type": "code",
   "execution_count": null,
   "metadata": {},
   "outputs": [],
   "source": [
    "# Python Program to create a data type object\n",
    "# containing a 32 bit big-endian integer\n",
    "import numpy as np\n",
    "\n",
    "# i4 represents integer of size 4 byte\n",
    "# > represents big-endian byte ordering and\n",
    "# < represents little-endian encoding.\n",
    "# dt is a dtype object\n",
    "dt = np.dtype('>i4')\n",
    "\n",
    "print(\"Byte order is:\", dt.byteorder)\n",
    "\n",
    "print(\"Size is:\", dt.itemsize)\n",
    "\n",
    "print(\"Data type is:\", dt.name)"
   ]
  },
  {
   "cell_type": "code",
   "execution_count": null,
   "metadata": {},
   "outputs": [],
   "source": [
    "# Python program to demonstrate \n",
    "# the use of data type object with structured array.\n",
    "import numpy as np\n",
    " \n",
    "dt = np.dtype([('name', np.unicode_, 16), ('grades', np.float64, (2,))])\n",
    " \n",
    "# x is a structured array with names and marks of students.\n",
    "# Data type of name of the student is np.unicode_ and \n",
    "# data type of marks is np.float(64)\n",
    "x = np.array([('Sarah', (8.0, 7.0)), ('John', (6.0, 7.0))], dtype=dt)\n",
    " \n",
    "print(x[1])\n",
    "print(\"Grades of John are: \",x[1]['grades'])\n",
    "print(\"Names are: \",x['name'])"
   ]
  },
  {
   "cell_type": "code",
   "execution_count": null,
   "metadata": {},
   "outputs": [],
   "source": [
    "import numpy as np \n",
    " \n",
    "a = np.array([1]) \n",
    " \n",
    "print(\"type is: \",type(a)) \n",
    "print(\"dtype is: \",a.dtype) "
   ]
  },
  {
   "cell_type": "code",
   "execution_count": null,
   "metadata": {},
   "outputs": [],
   "source": [
    "# initializing array with array values\n",
    "# initializes array with signed integers\n",
    "arr = array.array('i', [1, 2, 3]) \n",
    "\n",
    "# printing original array\n",
    "print (\"The new created array is : \",end=\"\")\n",
    "for i in range (0,3):\n",
    "    print (arr[i], end=\" \")\n",
    "\n",
    "print (\"\\r\")"
   ]
  },
  {
   "cell_type": "code",
   "execution_count": null,
   "metadata": {},
   "outputs": [],
   "source": [
    "import time\n",
    "\n",
    "print(\"Loading\", end=\"\")\n",
    "for i in range(1):\n",
    "    time.sleep(1)\n",
    "    print(\"\\rLoading\" + \".\" * i, end=\"\")"
   ]
  },
  {
   "cell_type": "code",
   "execution_count": null,
   "metadata": {},
   "outputs": [],
   "source": [
    "# Python Program illustrating\n",
    "# numpy.reshape() method\n",
    "\n",
    "import numpy as geek\n",
    "\n",
    "array = geek.arange(8)\n",
    "print(\"Original array : \\n\", array)\n",
    "\n",
    "# shape array with 2 rows and 4 columns\n",
    "array = geek.arange(8).reshape(2, 4)\n",
    "print(\"\\narray reshaped with 2 rows and 4 columns : \\n\", array)\n",
    "\n",
    "# shape array with 2 rows and 4 columns\n",
    "array = geek.arange(8).reshape(4 ,2)\n",
    "print(\"\\narray reshaped with 2 rows and 4 columns : \\n\", array)\n",
    "\n",
    "# Constructs 3D array\n",
    "array = geek.arange(8).reshape(2, 2, 2)\n",
    "print(\"\\nOriginal array reshaped to 3D : \\n\", array)\n",
    "\n",
    "print(\"A\\n\", geek.arange(4).reshape(2, 2), \"\\n\")\n",
    "\n",
    "print(\"A\\n\", geek.arange(40).reshape(2,2,2,5), \"\\n\")\n",
    "\n",
    "print(\"A\\n\", geek.arange(4, 20, 3), \"\\n\")"
   ]
  },
  {
   "cell_type": "code",
   "execution_count": null,
   "metadata": {},
   "outputs": [],
   "source": [
    "# Python Program illustrating\n",
    "# numpy.flatten() method\n",
    "\n",
    "import numpy as geek\n",
    "\n",
    "array = geek.array([[1, 2], [3, 4]])\n",
    "\n",
    "# using flatten method\n",
    "array.flatten()\n",
    "print(array)\n",
    "\n",
    "#using fatten method \n",
    "array.flatten('F')\n",
    "print(array)"
   ]
  },
  {
   "cell_type": "code",
   "execution_count": null,
   "metadata": {},
   "outputs": [],
   "source": [
    "# np.ones\tCreates an array filled with ones.\n",
    "# np.zeros\tCreates an array filled with zeros.\n",
    "# np.full\tCreates an array filled with a specified value.\n",
    "# np.empty\tCreates an uninitialized array (random contents)."
   ]
  },
  {
   "cell_type": "code",
   "execution_count": null,
   "metadata": {},
   "outputs": [],
   "source": [
    "# syntax: np.ones(shape, dtype=None, order='C', *, like=None)\n",
    "# numpy.zeros(shape, dtype = None, order = 'C')\n",
    "\n",
    "# Create a 2x3 array of ones in column-major order (Fortran-style)\n",
    "a=np.array([[1,2],[2,3]])\n",
    "arr = np.ones((2, 2), order='F',like=a)\n",
    "print(arr)\n"
   ]
  },
  {
   "cell_type": "code",
   "execution_count": null,
   "metadata": {},
   "outputs": [],
   "source": [
    "import numpy as geek\n",
    " \n",
    "print(\"A\\n\", geek.arange(4).reshape(2, 2), \"\\n\")\n",
    "print(\"A\\n\", geek.arange(4, 10), \"\\n\")\n",
    "print(\"A\\n\", geek.arange(4, 20, 3), \"\\n\")\n",
    "print(np.arange(1, 2, 0.1))\n"
   ]
  },
  {
   "cell_type": "code",
   "execution_count": null,
   "metadata": {},
   "outputs": [],
   "source": [
    "# Synatx: numpy.linspace(start, stop, num=50, endpoint=True , retstep=False, dtype=None, axis=0)\n",
    "\n",
    "\n",
    "import numpy as np\n",
    "start = np.array([[1, 2], [4, 5]])\n",
    "stop = np.array([[10, 20], [40, 50]])\n",
    "result = np.linspace(start, stop, num=5, axis=1,retstep=True)\n",
    "print(result)\n"
   ]
  },
  {
   "cell_type": "code",
   "execution_count": null,
   "metadata": {},
   "outputs": [],
   "source": [
    "# numpy.eye(R, C = None, k = 0, dtype = type <‘float’>) : –The eye tool returns a 2-D array with  1’s as the diagonal and  0’s elsewhere. The diagonal can be main, upper, or lower depending on the optional parameter k. A positive k is for the upper diagonal, a negative k is for the lower, and a  0 k (default) is for the main diagonal.\n",
    "\n",
    "# Python Programming illustrating\n",
    "# numpy.eye method\n",
    "\n",
    "import numpy as geek\n",
    "\n",
    "# 2x2 matrix with 1's on main diagonal\n",
    "b = geek.eye(2, dtype = float)\n",
    "print(\"Matrix b : \\n\", b)\n",
    "\n",
    "# matrix with R=4 C=5 and 1 on diagonal\n",
    "# below main diagonal\n",
    "a = geek.eye(4, 5, k = -3)\n",
    "print(\"\\nMatrix a : \\n\", a)"
   ]
  },
  {
   "cell_type": "code",
   "execution_count": null,
   "metadata": {},
   "outputs": [],
   "source": [
    "x = np.linspace(-4, 4, 9) \n",
    "  \n",
    "# numpy.linspace creates an array of \n",
    "# 9 linearly placed elements between \n",
    "# -4 and 4, both inclusive  \n",
    "y = np.linspace(-5, 5, 11) \n",
    "  \n",
    "# The meshgrid function returns \n",
    "# two 2-dimensional arrays  \n",
    "x_1, y_1 = np.meshgrid(x, y) \n",
    "  \n",
    "print(\"x_1 = \") \n",
    "print(x_1) \n",
    "print(\"y_1 = \") \n",
    "print(y_1)"
   ]
  },
  {
   "cell_type": "code",
   "execution_count": null,
   "metadata": {},
   "outputs": [],
   "source": [
    "str = \"geeksforgeeks\"\n",
    " \n",
    "# creating 1-d array\n",
    "x = np.fromiter(str, dtype='U2')\n",
    "print(x)\n",
    "\n",
    "a=np.random.rand(2,3)\n",
    " \n",
    "print(a)"
   ]
  },
  {
   "cell_type": "code",
   "execution_count": null,
   "metadata": {},
   "outputs": [],
   "source": [
    "# numpy.max() This function return the maximum value in an array or along a specified axis.\n",
    "\n",
    "a=np.array([[1,2],[20,3]])\n",
    "# a=np.arange(0,1000)\n",
    " \n",
    "# b=a.max(axis=1)\n",
    "# b=a.min(axis=1)\n",
    "b=a.argmax(axis=1)\n",
    "# b=a.argmin(axis=1)\n",
    " \n",
    "print(b)"
   ]
  },
  {
   "cell_type": "code",
   "execution_count": null,
   "metadata": {},
   "outputs": [],
   "source": [
    "empty_array_2d = np.empty((3, 4))\n",
    "print(empty_array_2d)\n",
    " \n",
    "full_array_2d = np.full((3, 4), 5)\n",
    "print(full_array_2d)"
   ]
  },
  {
   "cell_type": "code",
   "execution_count": null,
   "metadata": {},
   "outputs": [],
   "source": [
    "# numpy.exp()– this mathematical function helps the user to calculate the exponential of all the elements in the input array.\n",
    "\n",
    "# numpy.exp(array, out = None, where = True, casting = ‘same_kind’, order = ‘K’, dtype = None)\n",
    "\n",
    "# Store the result in an existing array\n",
    "output = np.zeros(3)\n",
    "np.exp([1, 2, 3], out=output)\n",
    "print(output)\n"
   ]
  },
  {
   "cell_type": "code",
   "execution_count": null,
   "metadata": {},
   "outputs": [],
   "source": [
    "\n",
    "# creating a 1-D list (Horizontal) \n",
    "list1 = [1, 2, 3] \n",
    "  \n",
    "# creating a 1-D list (Vertical) \n",
    "list2 = [[10], \n",
    "        [20], \n",
    "        [30]] \n",
    "  \n",
    "# creating a vector1 \n",
    "# vector as row \n",
    "vector1 = np.array(list1) \n",
    "  \n",
    "# creating a vector 2 \n",
    "# vector as column \n",
    "vector2 = np.array(list2) \n",
    "  \n",
    "  \n",
    "# showing horizontal vector \n",
    "print(\"Horizontal Vector\") \n",
    "print(vector1) \n",
    "  \n",
    "print(\"----------------\") \n",
    "  \n",
    "# showing vertical vector \n",
    "print(\"Vertical Vector\") \n",
    "print(vector2) "
   ]
  },
  {
   "cell_type": "code",
   "execution_count": null,
   "metadata": {},
   "outputs": [],
   "source": [
    "gfg = np.core.records.fromrecords([(101, 'Jitender', 21), \n",
    "                                    (102, 'Deepak', 20)],  \n",
    "                            names = 'Rollno, Name, Age') \n",
    "  \n",
    "print(gfg)\n",
    "print(gfg.Name)"
   ]
  },
  {
   "cell_type": "code",
   "execution_count": null,
   "metadata": {},
   "outputs": [],
   "source": [
    "# The main difference between copy and view is that the copy is the new array whereas the view is the view of the original array. In other words, it can be said that the copy is physically stored at another location and the view has the same memory location as the original array.\n",
    "\n",
    "arr = np.array([2, 4, 6, 8, 10])  \n",
    "# creating view  \n",
    "v = arr.view()  \n",
    "# both arr and v have different id  \n",
    "print(\"id of arr\", id(arr))  \n",
    "print(\"id of v\", id(v))  \n",
    "# changing original array  \n",
    "# will effect view  \n",
    "arr[0] = 12\n",
    "# printing array and view  \n",
    "print(\"original array- \", arr)  \n",
    "print(\"view- \\n\", v)\n",
    "\n",
    "\n"
   ]
  },
  {
   "cell_type": "code",
   "execution_count": null,
   "metadata": {},
   "outputs": [],
   "source": [
    "# creating copy of array \n",
    "arr = np.array([2, 4, 6, 8, 10])  \n",
    "\n",
    "c = arr.copy() \n",
    "  \n",
    "# both arr and c have different id \n",
    "print(\"id of arr\", id(arr)) \n",
    "print(\"id of c\", id(c)) \n",
    "  \n",
    "# changing original array \n",
    "# this will not effect copy \n",
    "arr[0] = 12\n",
    "  \n",
    "# printing array and copy \n",
    "print(\"original array- \", arr) \n",
    "print(\"copy- \", c) "
   ]
  },
  {
   "cell_type": "code",
   "execution_count": null,
   "metadata": {},
   "outputs": [],
   "source": [
    "# Assigning Array to Variable\n",
    "# Normal assignments do not make a copy of an array object. Instead, it uses the same ID of the original array to access it. \n",
    "\n",
    "# Any changes in either get reflected in the other.\n",
    "\n",
    "arr = np.array([2, 4, 6, 8, 10]) \n",
    "  \n",
    "# assigning arr to nc \n",
    "nc = arr \n",
    "  \n",
    "# both arr and nc have same id \n",
    "print(\"id of arr\", id(arr)) \n",
    "print(\"id of nc\", id(nc)) \n",
    "  \n",
    "# updating nc \n",
    "nc[0]= 12\n",
    "  \n",
    "# printing the values \n",
    "print(\"original array- \", arr) \n",
    "print(\"assigned array- \", nc) "
   ]
  },
  {
   "cell_type": "code",
   "execution_count": null,
   "metadata": {},
   "outputs": [],
   "source": [
    "arr = np.array([2, 4, 6, 8, 10]) \n",
    "  \n",
    "# creating copy of array \n",
    "c = arr.copy() \n",
    "  \n",
    "# creating view of array \n",
    "v = arr.view() \n",
    "\n",
    "a=arr\n",
    "a[0]=0  \n",
    "# printing base attribute of copy and view \n",
    "print(c.base) \n",
    "print(v.base) \n",
    "print(a.base) \n",
    "print(a)\n",
    "print(arr)\n",
    "# From the above code we can see that object ‘c’ returned None meaning it is a copy and owns the data.\n",
    "\n",
    "# Object ‘v’ returns the original array meaning it is a view and does not own the data."
   ]
  },
  {
   "cell_type": "code",
   "execution_count": null,
   "metadata": {},
   "outputs": [],
   "source": [
    "# creating an array\n",
    "arr = np.array([1, 8, 3, 3, 5])\n",
    "print('Original Array : ', arr)\n",
    " \n",
    "# appending to the array\n",
    "arr = np.append(arr, [7])\n",
    "print('Array after appending : ', arr)\n",
    "\n",
    "\n",
    "arr1 = np.array([1, 2, 3])\n",
    "print('First array is : ', arr1)\n",
    " \n",
    "# creating another array\n",
    "arr2 = np.array([4, 5, 6])\n",
    "print('Second array is : ', arr2)\n",
    " \n",
    "# appending arr2 to arr1\n",
    "arr = np.append(arr1, arr2)\n",
    "print('Array after appending : ', arr)"
   ]
  },
  {
   "cell_type": "code",
   "execution_count": null,
   "metadata": {},
   "outputs": [],
   "source": [
    "arr1 = np.array([[1, 2], [3, 4]])\n",
    "arr2 = np.array([[5, 6]])\n",
    " \n",
    "combined = np.concatenate((arr1, arr2), axis=0)\n",
    "print(combined)"
   ]
  },
  {
   "cell_type": "code",
   "execution_count": null,
   "metadata": {},
   "outputs": [],
   "source": [
    "# Appending with a Different Array Type\n",
    "# In this example, a 1D integer array arr and a 1D float array arr_float are appended together using np.append(), resulting in an upcasted float array as the output.\n",
    "\n",
    " \n",
    "arr = np.array([1, 2, 3])\n",
    "arr_float = np.array([4.0, 5.0])\n",
    " \n",
    "combined = np.append(arr, arr_float)\n",
    "print(combined)  # Output: [1. 2. 3. 4. 5.]"
   ]
  },
  {
   "cell_type": "code",
   "execution_count": null,
   "metadata": {},
   "outputs": [],
   "source": [
    "arr = np.array([1, 2, 3, 4, 5])\n",
    "values_to_append = [np.array([6, 7]), np.array([8, 9])]\n",
    "combined = np.concatenate([arr] + values_to_append)\n",
    "print(combined)"
   ]
  },
  {
   "cell_type": "code",
   "execution_count": null,
   "metadata": {},
   "outputs": [],
   "source": [
    "arr = np.arange(1, 13).reshape(2, 6)\n",
    "print('Original Array')\n",
    "print(arr, '\\n')\n",
    " \n",
    "# create another array which is\n",
    "# to be appended column-wise\n",
    "col = np.arange(5, 11).reshape(1, 6)\n",
    "print('Array to be appended column wise')\n",
    "print(col)\n",
    "arr_col = np.append(arr, col, axis=0)\n",
    "print('Array after appending the values column wise')\n",
    "print(arr_col, '\\n')\n",
    " \n",
    "# create an array which is\n",
    "# to be appended row wise\n",
    "row = np.array([1, 2]).reshape(2, 1)\n",
    "print('Array to be appended row wise')\n",
    "print(row)\n",
    "arr_row = np.append(arr, row, axis=1)\n",
    "print('Array after appending the values row wise')\n",
    "print(arr_row)"
   ]
  },
  {
   "cell_type": "code",
   "execution_count": null,
   "metadata": {},
   "outputs": [],
   "source": [
    "my_array = np.arange(12).reshape(4, 3)\n",
    "print(\"Original array:\")\n",
    "print(my_array)\n",
    " \n",
    "# swapping the column with index of \n",
    "# original array\n",
    "my_array[:, [2, 0]] = my_array[:, [0, 2]]\n",
    "print(\"After swapping arrays the last column and first column:\")\n",
    "print(my_array)"
   ]
  },
  {
   "cell_type": "code",
   "execution_count": null,
   "metadata": {},
   "outputs": [],
   "source": [
    "# Add a New Axis to a Numpy Array\n",
    "#     Using numpy.newaxis()\n",
    "#     Using numpy.expand_dims()\n",
    "#     Simultaneously insert many axes in the array\n",
    "#     Using numpy.reshape() a Single Axis"
   ]
  },
  {
   "cell_type": "code",
   "execution_count": null,
   "metadata": {},
   "outputs": [],
   "source": [
    "arr = np.arange(5*5).reshape(5, 5)\n",
    "print(arr.shape)\n",
    " \n",
    "# promoting 2D array to a 5D array\n",
    "# arr[None, ..., None, None]\n",
    "arr_5D = arr[np.newaxis, ..., np.newaxis, np.newaxis]\n",
    " \n",
    "print(arr_5D.shape)"
   ]
  },
  {
   "cell_type": "code",
   "execution_count": null,
   "metadata": {},
   "outputs": [],
   "source": [
    "x = np.zeros((3, 4))\n",
    "y = np.expand_dims(x, axis=2).shape\n",
    "print(y)"
   ]
  },
  {
   "cell_type": "code",
   "execution_count": null,
   "metadata": {},
   "outputs": [],
   "source": [
    "arr = np.arange(5*5).reshape(5,5)\n",
    "print(arr.shape)\n",
    " \n",
    "newaxes = (2, 3, 4)\n",
    "arr_5D = np.expand_dims(arr, axis=newaxes)\n",
    "print(arr_5D.shape)"
   ]
  },
  {
   "cell_type": "code",
   "execution_count": null,
   "metadata": {},
   "outputs": [],
   "source": [
    "arr = np.arange(6)\n",
    "arr_reshape = arr.reshape((2, 3))"
   ]
  },
  {
   "cell_type": "code",
   "execution_count": null,
   "metadata": {},
   "outputs": [],
   "source": [
    "# same same with vstack\n",
    "in_arr1 = geek.array([ 1, 2, 3] ) \n",
    "print (\"1st Input array : \\n\", in_arr1)  \n",
    "  \n",
    "in_arr2 = geek.array([ 4, 5, 6] ) \n",
    "print (\"2nd Input array : \\n\", in_arr2)  \n",
    "  \n",
    "# Stacking the two arrays horizontally \n",
    "out_arr = geek.hstack((in_arr1, in_arr2)) \n",
    "print (\"Output horizontally stacked array:\\n \", out_arr) \n",
    "\n",
    "in_arr1 = geek.array([[ 1, 2, 3], [ -1, -2, -3]] ) \n",
    "print (\"1st Input array : \\n\", in_arr1)  \n",
    "  \n",
    "in_arr2 = geek.array([[ 4, 5, 6], [ -4, -5, -6]] ) \n",
    "print (\"2nd Input array : \\n\", in_arr2)  \n",
    "  \n",
    "# Stacking the two arrays horizontally \n",
    "out_arr = geek.hstack((in_arr1, in_arr2)) \n",
    "print (\"Output stacked array :\\n \", out_arr) "
   ]
  },
  {
   "cell_type": "code",
   "execution_count": null,
   "metadata": {},
   "outputs": [],
   "source": [
    "# NumPy provides various functions to combine arrays. In this article, we will discuss some of the major ones.\n",
    "\n",
    "# numpy.concatenate\n",
    "# numpy.stack\n",
    "# numpy.block"
   ]
  },
  {
   "cell_type": "code",
   "execution_count": null,
   "metadata": {},
   "outputs": [],
   "source": [
    "# numpy.concatenate((array1, array2, ...), axis=0)\n",
    "array_1 = np.array([1, 2]) \n",
    "array_2 = np.array([3, 4]) \n",
    "  \n",
    "array_new = np.concatenate((array_1, array_2)) \n",
    "print(array_new) \n",
    "\n",
    "\n",
    "# array_1 = np.array([[1, 2], [3, 4]]) \n",
    "# array_2 = np.array([[5, 6], [7, 8]]) \n",
    "  \n",
    "# array_new = np.concatenate((array_1, array_2), axis=0) \n",
    "# print(array_new) "
   ]
  },
  {
   "cell_type": "code",
   "execution_count": null,
   "metadata": {},
   "outputs": [],
   "source": [
    "# numpy.stack(arrays, axis=0)\n",
    "array_1 = np.array([1, 2, 3, 4]) \n",
    "array_2 = np.array([5, 6, 7, 8]) \n",
    "  \n",
    "array_new = np.stack((array_1, array_2), axis=0) \n",
    "# array_new = np.concatenate((array_1, array_2), axis=0) \n",
    "\n",
    "print(array_new) "
   ]
  },
  {
   "cell_type": "code",
   "execution_count": null,
   "metadata": {},
   "outputs": [],
   "source": [
    "# numpy.block(arrays)\n",
    "block_1 = np.array([[1, 1], [1, 1]]) \n",
    "block_2 = np.array([[2, 2, 2], [2, 2, 2]]) \n",
    "block_3 = np.array([[3, 3], [3, 3], [3, 3]]) \n",
    "block_4 = np.array([[4, 4, 4], [4, 4, 4], [4, 4, 4]]) \n",
    "  \n",
    "block_new = np.block([ \n",
    "    [block_1, block_2], \n",
    "    [block_3, block_4] \n",
    "]) \n",
    "  \n",
    "print(block_new)"
   ]
  },
  {
   "cell_type": "code",
   "execution_count": null,
   "metadata": {},
   "outputs": [],
   "source": [
    "# Combining a one and a two-dimensional NumPy Array\n",
    "\n",
    "# Syntax: numpy.nditer(op, flags=None, op_flags=None, op_dtypes=None, order=’K’, casting=’safe’, op_axes=None, itershape=None, buffersize=0)\n",
    "\n",
    "num_1d = np.arange(5) \n",
    "print(\"One dimensional array:\") \n",
    "print(num_1d) \n",
    "  \n",
    "num_2d = np.arange(10).reshape(2,5) \n",
    "print(\"\\nTwo dimensional array:\") \n",
    "print(num_2d) \n",
    "  \n",
    "# Combine 1-D and 2-D arrays and display  \n",
    "# their elements using numpy.nditer()  \n",
    "for a, b in np.nditer([num_1d, num_2d]): \n",
    "    print(\"%d:%d\" % (a, b),)"
   ]
  },
  {
   "cell_type": "code",
   "execution_count": null,
   "metadata": {},
   "outputs": [],
   "source": [
    "# Python | Numpy np.ma.concatenate() method\n",
    "\n",
    "# Syntax : np.ma.concatenate([list1, list2])\n",
    "\n",
    "gfg1 = np.array([1, 2, 3]) \n",
    "gfg2 = np.array([4, 5, 6]) \n",
    "  \n",
    "# using np.ma.concatenate() method \n",
    "print(np.ma.concatenate([gfg1, gfg2]))\n",
    "print(np.ma.concatenate([[gfg1],[gfg2]]))"
   ]
  },
  {
   "cell_type": "code",
   "execution_count": null,
   "metadata": {},
   "outputs": [],
   "source": [
    "# Syntax : numpy.dstack((array1, array2))\n",
    "# Return : Return combined array index by index.\n",
    "\n",
    "gfg1 = np.array([1, 2, 3]) \n",
    "gfg2 = np.array([4, 5, 6]) \n",
    "  \n",
    "# using numpy.dstack() method \n",
    "print(np.dstack((gfg1, gfg2)))\n",
    "\n",
    "gfg1 = np.array([[10], [2], [13]]) \n",
    "gfg2 = np.array([[41], [55], [6]]) \n",
    "  \n",
    "# using numpy.dstack() method \n",
    "print(np.dstack((gfg1, gfg2)))  "
   ]
  },
  {
   "cell_type": "code",
   "execution_count": 159,
   "metadata": {},
   "outputs": [
    {
     "name": "stdout",
     "output_type": "stream",
     "text": [
      "[array([0, 1]), array([2, 3]), array([4]), array([5])]\n",
      "[array([0, 1]), array([2, 3]), array([4, 5])]\n",
      "[array([[3],\n",
      "       [8],\n",
      "       [4]]), array([[2],\n",
      "       [9],\n",
      "       [6]]), array([[1],\n",
      "       [7],\n",
      "       [5]])]\n",
      "[array([[1, 2, 3],\n",
      "       [4, 5, 6]]), array([[ 7,  8,  9],\n",
      "       [10, 11, 12]])]\n",
      "[array([[ 1],\n",
      "       [ 4],\n",
      "       [ 7],\n",
      "       [10]]), array([[ 2],\n",
      "       [ 5],\n",
      "       [ 8],\n",
      "       [11]])]\n",
      "[array([[[ 0,  1],\n",
      "        [ 4,  5],\n",
      "        [ 8,  9]],\n",
      "\n",
      "       [[12, 13],\n",
      "        [16, 17],\n",
      "        [20, 21]]]), array([[[ 2,  3],\n",
      "        [ 6,  7],\n",
      "        [10, 11]],\n",
      "\n",
      "       [[14, 15],\n",
      "        [18, 19],\n",
      "        [22, 23]]])]\n"
     ]
    }
   ],
   "source": [
    "# The split(), hsplit(), vsplit(), and dsplit() functions are important tools for dividing arrays along various axes and dimensions\n",
    "Arr = np.array([1, 2, 3, 4, 5, 6])\n",
    "print(np.array_split(arr, 4)) # for unequal splits\n",
    "print(np.split(arr, 3)) # for equal splits\n",
    "\n",
    "array = np.array([[3, 2, 1], [8, 9, 7], [4, 6, 5]])\n",
    "# Splitting the array into 3 equal parts along the second axis (axis=1)\n",
    "result = print(np.split(array, 3, axis=1))\n",
    "\n",
    "\n",
    "matrix = np.array([[1, 2, 3],[4, 5, 6],[7, 8, 9],[10, 11, 12]])\n",
    "# Vertical splitting into 2 subarrays along axis=0\n",
    "result = print(np.vsplit(matrix, 2)) # only equal split otherwise error\n",
    "\n",
    "\n",
    "matrix = np.array([[1, 2],[4, 5],[7, 8],[10, 11]])\n",
    "# Horizontal splitting into 2 subarrays along axis=1\n",
    "result = print(np.hsplit(matrix, 2)) # only equal split otherwise error\n",
    "\n",
    "original_3d_array = np.arange(24).reshape((2, 3, 4))\n",
    "# Splitting along axis=2 (third axis)\n",
    "result = print(np.dsplit(original_3d_array, 2))"
   ]
  },
  {
   "cell_type": "code",
   "execution_count": null,
   "metadata": {},
   "outputs": [],
   "source": [
    "# How to compare two NumPy arrays?\n",
    "\n",
    "an_array = np.array([[1, 2], [3, 4]])\n",
    "another_array = np.array([[1, 2], [3, 4]])\n",
    "\n",
    "# Element-wise comparison\n",
    "comparison = an_array == another_array\n",
    "print(comparison)\n",
    "\n",
    "# Check if all elements are equal\n",
    "equal_arrays = (comparison.all())\n",
    "print(equal_arrays)\n",
    "\n",
    "# Syntax : numpy.greater(x1, x2[, out])\n",
    "# Syntax : numpy.greater_equal(x1, x2[, out])\n",
    "# Syntax : numpy.less(x1, x2[, out])\n",
    "# Syntax : numpy.less_equal(x1, x2[, out])\n",
    "\n",
    "\n",
    "a = np.array([101, 99, 87])\n",
    "b = np.array([897, 97, 111])\n",
    " \n",
    "print(\"Array a: \", a)\n",
    "print(\"Array b: \", b)\n",
    " \n",
    "print(\"a > b\")\n",
    "print(np.greater(a, b))\n",
    " \n",
    "print(\"a >= b\")\n",
    "print(np.greater_equal(a, b))\n",
    " \n",
    "print(\"a < b\")\n",
    "print(np.less(a, b))\n",
    " \n",
    "print(\"a <= b\")\n",
    "print(np.less_equal(a, b))\n",
    "\n",
    "\n",
    "arr1 = np.array([[1, 2], [3, 4]])\n",
    "arr2 = np.array([[1, 2], [3, 4]])\n",
    " \n",
    " \n",
    "# Comparing the arrays\n",
    "if np.array_equal(arr1, arr2):\n",
    "    print(\"Equal\")\n",
    "else:\n",
    "    print(\"Not Equal\")"
   ]
  },
  {
   "cell_type": "code",
   "execution_count": null,
   "metadata": {},
   "outputs": [],
   "source": [
    "arr1 = np.array([10, 20, 30, 40]) \n",
    "print(\"array1 \", arr1) \n",
    "arr2 = np.array([20, 40, 60, 80]) \n",
    "print(\"array2 \", arr2) \n",
    "print(\"Union of two arrays :\", np.union1d(arr1, arr2))\n",
    "\n",
    "#  if array passed as arguments to function numpy.union1d is 2-dimensional, then they are flattened to 1-dimension."
   ]
  },
  {
   "cell_type": "code",
   "execution_count": null,
   "metadata": {},
   "outputs": [],
   "source": [
    "# If we want to find union of more than two arrays, then we can find that by using functools.reduce function.\n",
    "\n",
    "from functools import reduce\n",
    "array = print(reduce(np.union1d, ([1, 2, 3], [1, 3, 5], [2, 4, 6], [0, 0, 0])) )"
   ]
  },
  {
   "cell_type": "code",
   "execution_count": null,
   "metadata": {},
   "outputs": [],
   "source": [
    "# numpy.unique(ar, return_index=False, return_inverse=False, return_counts=False, axis=None)\n",
    "arr2D = np.array([[11, 11, 12, 11],\n",
    "                     [13, 11, 12, 11],\n",
    "                     [16, 11, 12, 11],\n",
    "                     [11, 11, 12, 11]])\n",
    " \n",
    "# print('Original Array :' ,arr2D)\n",
    "uniqueRows = np.unique(arr2D,return_index=True,return_inverse=True,return_counts=True)\n",
    "print('Unique Rows:', uniqueRows, sep = '\\n')"
   ]
  },
  {
   "cell_type": "code",
   "execution_count": null,
   "metadata": {},
   "outputs": [],
   "source": [
    "gfg = geek.array((0, 0, 0, 0, 1, 5, 7, 0, 6, 2, 9, 0, 10, 0, 0)) \n",
    "  \n",
    "# without trim parameter \n",
    "# returns an array without leading and trailing zeros  \n",
    "  \n",
    "res = geek.trim_zeros(gfg,trim='fb') \n",
    "print(res)"
   ]
  },
  {
   "cell_type": "markdown",
   "metadata": {},
   "source": [
    "# Matrix manipulation in Python\n"
   ]
  },
  {
   "cell_type": "markdown",
   "metadata": {},
   "source": [
    "<!-- Operation on Matrix : \n",
    "\n",
    "1. add() :- This function is used to perform element wise matrix addition. \n",
    "2. subtract() :- This function is used to perform element wise matrix subtraction. \n",
    "3. divide() :- This function is used to perform element wise matrix division. \n",
    "4. multiply() :- This function is used to perform element wise matrix multiplication. \n",
    "5. dot() :- This function is used to compute the matrix multiplication, rather than element wise multiplication.  -->"
   ]
  },
  {
   "cell_type": "code",
   "execution_count": 165,
   "metadata": {},
   "outputs": [
    {
     "name": "stdout",
     "output_type": "stream",
     "text": [
      "The element wise addition of matrix is : \n",
      "[[ 8 10]\n",
      " [13 15]]\n",
      "The element wise subtraction of matrix is : \n",
      "[[-6 -6]\n",
      " [-5 -5]]\n",
      "The element wise division of matrix is : \n",
      "[[0.14285714 0.25      ]\n",
      " [0.44444444 0.5       ]]\n",
      "The element wise multiplication of matrix is : \n",
      "[[ 7 16]\n",
      " [36 50]]\n",
      "The product of matrices is : \n",
      "[[25 28]\n",
      " [73 82]]\n",
      "The element wise square root is : \n",
      "[[1.         1.41421356]\n",
      " [2.         2.23606798]]\n",
      "The summation of all matrix element is : \n",
      "34\n",
      "The transpose of given matrix is : \n",
      "[[1 4]\n",
      " [2 5]]\n"
     ]
    }
   ],
   "source": [
    "# Python code to demonstrate matrix operations \n",
    "# add(), subtract() and divide() \n",
    "\n",
    "# importing numpy for matrix operations \n",
    "import numpy \n",
    "\n",
    "# initializing matrices \n",
    "x = numpy.array([[1, 2], [4, 5]]) \n",
    "y = numpy.array([[7, 8], [9, 10]]) \n",
    "\n",
    "# using add() to add matrices \n",
    "print (\"The element wise addition of matrix is : \") \n",
    "print (numpy.add(x,y)) \n",
    "\n",
    "# using subtract() to subtract matrices \n",
    "print (\"The element wise subtraction of matrix is : \") \n",
    "print (numpy.subtract(x,y)) \n",
    "\n",
    "# using divide() to divide matrices \n",
    "print (\"The element wise division of matrix is : \") \n",
    "print (numpy.divide(x,y))\n",
    "print (\"The element wise multiplication of matrix is : \") \n",
    "print (numpy.multiply(x,y)) \n",
    "\n",
    "# using dot() to multiply matrices \n",
    "print (\"The product of matrices is : \") \n",
    "print (numpy.dot(x,y))\n",
    "\n",
    "# using sqrt() to print the square root of matrix \n",
    "print (\"The element wise square root is : \") \n",
    "print (numpy.sqrt(x)) \n",
    "\n",
    "# using sum() to print summation of all elements of matrix \n",
    "print (\"The summation of all matrix element is : \") \n",
    "print (numpy.sum(y,axis=None))\n",
    "# using \"T\" to transpose the matrix \n",
    "print (\"The transpose of given matrix is : \") \n",
    "print (x.T)"
   ]
  },
  {
   "cell_type": "code",
   "execution_count": 171,
   "metadata": {},
   "outputs": [
    {
     "name": "stdout",
     "output_type": "stream",
     "text": [
      "Output matrix : \n",
      "[[1. 0. 0.]\n",
      " [0. 1. 0.]\n",
      " [0. 0. 1.]]\n"
     ]
    }
   ],
   "source": [
    "import numpy.matlib \n",
    "# Syntax  :  numpy.matlib.identity(n, dtype=None)\n",
    "# desired 3 x 3 output square identity matrix  \n",
    "out_mat = np.matlib.identity(3)  \n",
    "print (\"Output matrix : \", out_mat,sep='\\n') "
   ]
  },
  {
   "cell_type": "code",
   "execution_count": 173,
   "metadata": {},
   "outputs": [
    {
     "name": "stdout",
     "output_type": "stream",
     "text": [
      "Addition of two matrix\n",
      "[[ 5  7]\n",
      " [ 9 11]]\n",
      "[[-3 -3]\n",
      " [-3 -3]]\n"
     ]
    }
   ],
   "source": [
    "# creating first matrix\n",
    "A = np.array([[1, 2], [3, 4]])\n",
    " \n",
    "# creating second matrix\n",
    "B = np.array([[4, 5], [6, 7]])\n",
    "# adding two matrix\n",
    "print(\"Addition of two matrix\")\n",
    "print(np.add(A, B))\n",
    "print(np.subtract(A, B))"
   ]
  },
  {
   "cell_type": "code",
   "execution_count": 178,
   "metadata": {},
   "outputs": [
    {
     "name": "stdout",
     "output_type": "stream",
     "text": [
      "[[16 19]\n",
      " [26 31]]\n",
      "[[27. 27. 27.]\n",
      " [27. 27. 27.]\n",
      " [27. 27. 27.]]\n"
     ]
    }
   ],
   "source": [
    "# creating two matrices \n",
    "p = [[1, 2], [2, 3]] \n",
    "q = [[4, 5], [6, 7]]\n",
    "\n",
    "print(np.dot(p,q))\n",
    "\n",
    "arr1 = np.eye(3) \n",
    "arr = np.ones((3, 3)) * 3\n",
    "gfg = arr1.dot( arr ).dot(arr)\n",
    "  \n",
    "print( gfg) "
   ]
  },
  {
   "cell_type": "code",
   "execution_count": 180,
   "metadata": {},
   "outputs": [],
   "source": [
    "# input two matrices\n",
    "mat1 = ([1, 6, 5],[3 ,4, 8],[2, 12, 3])\n",
    "mat2 = ([3, 4, 6],[5, 6, 7],[6,56, 7])\n",
    "\n",
    "# This will return matrix product of two array\n",
    "# res = mat1 @ mat2\n",
    "\n",
    "# # print resulted matrix\n",
    "# print(res)"
   ]
  },
  {
   "cell_type": "code",
   "execution_count": 216,
   "metadata": {},
   "outputs": [
    {
     "name": "stdout",
     "output_type": "stream",
     "text": [
      "[-0.37228132  5.37228132]\n",
      "-2.0000000000000004\n",
      "[[-2.   1. ]\n",
      " [ 1.5 -0.5]]\n"
     ]
    }
   ],
   "source": [
    "# Syntax : np.linalg.eigvals(matrix)\n",
    "\n",
    "# Return : Return the eigen values of a matrix.\n",
    "\n",
    "# using np.linalg.eigvals() method \n",
    "print(np.linalg.eigvals([[1, 2], [3, 4]]))\n",
    "# calculating the determinant of matrix \n",
    "print(np.linalg.det([[1, 2], [3, 4]]))\n",
    "print(np.linalg.inv([[1, 2], [3, 4]]))"
   ]
  },
  {
   "cell_type": "code",
   "execution_count": 213,
   "metadata": {},
   "outputs": [
    {
     "name": "stdout",
     "output_type": "stream",
     "text": [
      "[[ 4 12  4]\n",
      " [ 1  3  5]\n",
      " [ 9  1  6]]\n"
     ]
    }
   ],
   "source": [
    "gfg = np.matrix('[4, 1, 9; 12, 3, 1; 4, 5, 6]') \n",
    "               \n",
    "# applying matrix.transpose() method \n",
    "geek = gfg.transpose() \n",
    "     \n",
    "print(geek)"
   ]
  },
  {
   "cell_type": "code",
   "execution_count": 239,
   "metadata": {},
   "outputs": [
    {
     "name": "stdout",
     "output_type": "stream",
     "text": [
      "17.5\n"
     ]
    }
   ],
   "source": [
    "# make matrix with numpy \n",
    "gfg = np.matrix('[4, 1; 12, 3]') \n",
    "              \n",
    "# applying matrix.var() method \n",
    "geek = gfg.var(axis=None)\n",
    "    \n",
    "print(geek)"
   ]
  },
  {
   "cell_type": "markdown",
   "metadata": {},
   "source": [
    "# Operations on NumPy Array\n"
   ]
  },
  {
   "cell_type": "code",
   "execution_count": null,
   "metadata": {},
   "outputs": [
    {
     "name": "stdout",
     "output_type": "stream",
     "text": [
      "10\n",
      "[  2   0 113]\n",
      "-11\n",
      "20\n",
      "[ 16 128 480]\n"
     ]
    }
   ],
   "source": [
    "# Python program explaining\n",
    "# bitwise_and() function\n",
    "\n",
    "import numpy as geek\n",
    "in_num1 = 10\n",
    "in_num2 = 11\n",
    "print(geek.bitwise_and(in_num1, in_num2)) \n",
    "\n",
    "in_arr1 = [2, 8, 125]\n",
    "in_arr2 = [3, 3, 115]\n",
    "print(geek.bitwise_and(in_arr1, in_arr2))  # geek.bitwise_or, geek.bitwise_xor\n",
    "\n",
    "print(geek.invert(10)) # inversion\n",
    "print(geek.left_shift(5,2))\n",
    "\n",
    "# Python program explaining\n",
    "# left_shift() function\n",
    "\n",
    "in_arr = [2, 8, 15]\n",
    "bit_shift =[3, 4, 5]\n",
    "print(geek.left_shift(in_arr, bit_shift) ) # right_shift\n"
   ]
  },
  {
   "cell_type": "code",
   "execution_count": 228,
   "metadata": {},
   "outputs": [
    {
     "name": "stdout",
     "output_type": "stream",
     "text": [
      "10110\n"
     ]
    },
    {
     "name": "stderr",
     "output_type": "stream",
     "text": [
      "C:\\Users\\gragh\\AppData\\Local\\Temp\\ipykernel_3044\\1249531389.py:4: DeprecationWarning: Insufficient bit width provided. This behavior will raise an error in the future.\n",
      "  print(np.binary_repr(-10,width=True))\n"
     ]
    }
   ],
   "source": [
    "# numpy.binary_repr(number, width=None) : \n",
    "# This function is used to represent binary form of the input number as a string.For negative numbers, if width is not given, a minus sign is added to the front. If width is given, the two’s complement of the number is returned, with respect to that width.\n",
    "\n",
    "print(np.binary_repr(-10,width=True))"
   ]
  },
  {
   "cell_type": "code",
   "execution_count": 233,
   "metadata": {},
   "outputs": [
    {
     "name": "stdout",
     "output_type": "stream",
     "text": [
      "[[[160]\n",
      "  [ 64]]\n",
      "\n",
      " [[192]\n",
      "  [ 32]]]\n",
      "[1 0 1 0 0 0 0 0 0 1 0 0 0 0 0 0 1 1 0 0 0 0 0 0 0 0 1 0 0 0 0 0]\n",
      "[[0 0 0 0 0 0 1 0]\n",
      " [0 0 0 0 0 1 1 1]\n",
      " [0 0 0 1 0 1 1 1]]\n"
     ]
    }
   ],
   "source": [
    "# Python program explaining\n",
    "# packbits() function\n",
    "import numpy as np\n",
    "\n",
    "# This function is used to packs the elements of a binary-valued array into bits in a uint8 array.The result is padded to full bytes by inserting zero bits at the end.\n",
    "\n",
    "# creating an array using \n",
    "# array function\n",
    "a = np.array([[[1,0,1], #10100000\n",
    "             [0,1,0]], #01000000\n",
    "             [[1,1,0], # 11000000\n",
    "             [0,0,1]]]) #00100000\n",
    "\n",
    "# packing elements of an array\n",
    "# using packbits() function\n",
    "b = np.packbits(a, axis=-1)\n",
    "\n",
    "print(b)\n",
    "\n",
    "b=np.unpackbits(b) # [1 0 1 0 0 0 0 0 0 1 0 0 0 0 0 0 1 1 0 0 0 0 0 0 0 0 1 0 0 0 0 0]\n",
    "print(b)\n",
    "\n",
    "\n",
    "a = np.array([[2], [7], [23]], dtype=np.uint8)\n",
    "\n",
    "# packing elements of an array\n",
    "# using packbits() function\n",
    "b = np.unpackbits(a, axis = 1)\n",
    "print(b)"
   ]
  },
  {
   "cell_type": "code",
   "execution_count": null,
   "metadata": {},
   "outputs": [],
   "source": [
    "# Sin_Values = np.sin(in_array)\n",
    "# cos_Values = np.cos(in_array)\n",
    "# tan()\tCompute tangent element-wise.\n",
    "# arcsin()\tInverse sine, element-wise.\n",
    "# arccos()\tTrigonometric inverse cosine, element-wise.\n",
    "# arctan()\tTrigonometric inverse tangent, element-wise.\n",
    "# arctan2()\tElement-wise arc tangent of x1/x2 choosing the quadrant correctly.\n",
    "# degrees()\tConvert angles from radians to degrees.\n",
    "# rad2deg()\tConvert angles from radians to degrees.\n",
    "# deg2rad\tConvert angles from degrees to radians.\n",
    "# radians()\tConvert angles from degrees to radians.\n",
    "# hypot()\tGiven the “legs” of a right triangle, return its hypotenuse.\n",
    "# unwrap()\tUnwrap by changing deltas between values to 2*pi complement.\n",
    "# Sinh_Values = np.sinh(in_array)\n",
    "# cosh_Values = np.cosh(in_array)\n",
    "# tanh()\tCompute hyperbolic tangent element-wise.\n",
    "# arcsinh()\tInverse hyperbolic sine element-wise.\n",
    "# arccosh()\tInverse hyperbolic cosine, element-wise.\n",
    "# arctanh()\tInverse hyperbolic tangent element-wise.\n"
   ]
  },
  {
   "cell_type": "code",
   "execution_count": 234,
   "metadata": {},
   "outputs": [
    {
     "name": "stdout",
     "output_type": "stream",
     "text": [
      "Input array : \n",
      " [0.5, 1.5, 2.5, 3.5, 4.5, 10.1]\n",
      "\n",
      "Rounded values : \n",
      " [ 0.  2.  2.  4.  4. 10.]\n",
      "\n",
      "Input array : \n",
      " [0.53, 1.54, 0.71]\n",
      "\n",
      "Rounded values : \n",
      " [1. 2. 1.]\n",
      "\n",
      "Input array : \n",
      " [0.5538, 1.33354, 0.71445]\n",
      "\n",
      "Rounded values : \n",
      " [0.554 1.334 0.714]\n"
     ]
    }
   ],
   "source": [
    "# Functions for Rounding –\n",
    "# numpy.around(arr, decimals = 0, out = None) : This mathematical function helps user to evenly round array elements to the given number of decimals.\n",
    "\n",
    "# Python program explaining\n",
    "# around() function\n",
    " \n",
    "import numpy as np\n",
    " \n",
    "in_array = [.5, 1.5, 2.5, 3.5, 4.5, 10.1]\n",
    "print (\"Input array : \\n\", in_array)\n",
    " \n",
    "round_off_values = np.around(in_array)\n",
    "print (\"\\nRounded values : \\n\", round_off_values)\n",
    " \n",
    " \n",
    "in_array = [.53, 1.54, .71]\n",
    "print (\"\\nInput array : \\n\", in_array)\n",
    " \n",
    "round_off_values = np.around(in_array)\n",
    "print (\"\\nRounded values : \\n\", round_off_values)\n",
    " \n",
    "in_array = [.5538, 1.33354, .71445]\n",
    "print (\"\\nInput array : \\n\", in_array)\n",
    " \n",
    "round_off_values = np.around(in_array, decimals = 3)\n",
    "print (\"\\nRounded values : \\n\", round_off_values)"
   ]
  },
  {
   "cell_type": "code",
   "execution_count": null,
   "metadata": {},
   "outputs": [],
   "source": [
    "# # numpy.round_(arr, decimals = 0, out = None) : This mathematical function round an array to the given number of decimals.\n",
    "# # rint()\tRound to nearest integer towards zero.\n",
    "# # fix()\tRound to nearest integer towards zero.\n",
    "# # floor()\tReturn the floor of the input, element-wise.\n",
    "# # ceil()\tReturn the ceiling of the input, element-wise.\n",
    "# # trunc()\tReturn the truncated value of the input, element-wise.\n",
    "\n",
    "# numpy.log(x[, out] = ufunc ‘log1p’) \n",
    "# expm1()\tCalculate exp(x) – 1 for all elements in the array.\n",
    "# exp2()\tCalculate 2**p for all p in the input array.\n",
    "# log10()\tReturn the base 10 logarithm of the input array, element-wise.\n",
    "# log2()\tBase-2 logarithm of x.\n",
    "# log1p()\tReturn the natural logarithm of one plus the input array, element-wise.\n",
    "# logaddexp()\tLogarithm of the sum of exponentiations of the inputs.\n",
    "# logaddexp2()\tLogarithm of the sum of exponentiations of the inputs in base-2.\n",
    "# out_num = np.reciprocal(in_num)\n",
    "# out = np.divide(arr1, arr2)\n",
    "\n",
    "# add()\tAdd arguments element-wise.\n",
    "# positive()\tNumerical positive, element-wise.\n",
    "# negative()\tNumerical negative, element-wise.\n",
    "# multiply()\tMultiply arguments element-wise.\n",
    "# power()\tFirst array elements raised to powers from second array, element-wise.\n",
    "# subtract()\tSubtract arguments, element-wise.\n",
    "# true_divide()\tReturns a true division of the inputs, element-wise.\n",
    "# floor_divide()\tReturn the largest integer smaller or equal to the division of the inputs.\n",
    "# float_power()\tFirst array elements raised to powers from second array, element-wise.\n",
    "# mod()\tReturn the element-wise remainder of division.\n",
    "# remainder()\tReturn element-wise remainder of division.\n",
    "# divmod()\tReturn element-wise quotient and remainder simultaneously.\n",
    "\n",
    "# numpy.conj(x[, out] = ufunc ‘conjugate’) : This function helps the user to conjugate any complex number.\n",
    "# numpy.cbrt(arr, out = None, ufunc ‘cbrt’) : This mathematical function helps user to calculate cube root of x for all x being the array elements.\n",
    "\n",
    "# numpy.clip() : This function is used to Clip (limit) the values in an array.\n",
    "\n",
    "# convolve()\tReturns the discrete, linear convolution of two one-dimensional sequences.\n",
    "# sqrt()\tReturn the non-negative square-root of an array, element-wise.\n",
    "# square()\tReturn the element-wise square of the input.\n",
    "# absolute()\tCalculate the absolute value element-wise.\n",
    "# fabs()\tCompute the absolute values element-wise.\n",
    "# sign()\tReturns an element-wise indication of the sign of a number.\n",
    "# interp()\tOne-dimensional linear interpolation.\n",
    "# maximum()\tElement-wise maximum of array elements.\n",
    "# minimum()\tElement-wise minimum of array elements.\n",
    "# real_if_close()\tIf complex input returns a real array if complex parts are close to zero.\n",
    "# nan_to_num()\tReplace NaN with zero and infinity with large finite numbers.\n",
    "# heaviside()\tCompute the Heaviside step function."
   ]
  },
  {
   "cell_type": "code",
   "execution_count": 235,
   "metadata": {},
   "outputs": [
    {
     "name": "stdout",
     "output_type": "stream",
     "text": [
      "['geeks' 'for']\n",
      "geeks\n"
     ]
    }
   ],
   "source": [
    "# converting to lowercase\n",
    "print(np.char.lower(['GEEKS', 'FOR']))\n",
    " \n",
    "# converting to lowercase\n",
    "print(np.char.lower('GEEKS'))"
   ]
  },
  {
   "cell_type": "code",
   "execution_count": 242,
   "metadata": {},
   "outputs": [
    {
     "name": "stdout",
     "output_type": "stream",
     "text": [
      "['geeks', 'for', 'geeks']\n",
      "['geeks', ' for', ' geeks']\n",
      "['geeks', 'for', 'geeks']\n",
      "['geeks', ' for', ' geeks']\n",
      "g-e-e-k-s\n",
      "['g-e-e-k-s' 'f:o:r']\n"
     ]
    }
   ],
   "source": [
    "# Python program explaining\n",
    "# numpy.split() function\n",
    " \n",
    "import numpy as np\n",
    " \n",
    "# splitting a string\n",
    "print(np.char.split('geeks for geeks'))\n",
    " \n",
    "# splitting a string\n",
    "print(np.char.split('geeks, for, geeks', sep = ','))\n",
    "\n",
    "# splitting a string\n",
    "print(np.char.split('geeks for geeks'))\n",
    " \n",
    "# splitting a string\n",
    "print(np.char.split('geeks, for, geeks', sep = ','))\n",
    "\n",
    "# splitting a string\n",
    "print(np.char.join('-', 'geeks'))\n",
    " \n",
    "# splitting a string\n",
    "print(np.char.join(['-', ':'], ['geeks', 'for']))"
   ]
  },
  {
   "cell_type": "code",
   "execution_count": null,
   "metadata": {},
   "outputs": [],
   "source": [
    "# numpy.strip()\tIt is used to remove all the leading and trailing spaces from a string.\n",
    "# numpy.capitalize()\tIt converts the first character of a string to capital (uppercase) letter. If the string has its first character as capital, then it returns the original string.\n",
    "# numpy.center()\tIt creates and returns a new string which is padded with the specified character..\n",
    "# numpy.decode()\tIt is used to convert from one encoding scheme, in which argument string is encoded to the desired encoding scheme.\n",
    "# numpy.encode()\tReturns the string in the encoded form\n",
    "# numpy.ljust()\tReturn an array with the elements of a left-justified in a string of length width.\n",
    "# numpy.rjust()\tFor each element in a, return a copy with the leading characters removed.\n",
    "# numpy.strip()\tFor each element in a, return a copy with the leading and trailing characters removed.\n",
    "# numpy.lstrip()\tConvert angles from degrees to radians.\n",
    "# numpy.rstrip()\tFor each element in a, return a copy with the trailing characters removed.\n",
    "# numpy.partition()\tPartition each element in a around sep.\n",
    "# numpy.rpartition\tPartition (split) each element around the right-most separator.\n",
    "# numpy.rsplit()\tFor each element in a, return a list of the words in the string, using sep as the delimiter string.\n",
    "# numpy.title()\tIt is used to convert the first character in each word to Uppercase and remaining characters to Lowercase in string and returns new string.\n",
    "# numpy.upper()\tReturns the uppercased string from the given string. It converts all lowercase characters to uppercase.If no lowercase characters exist, it returns the original string."
   ]
  },
  {
   "cell_type": "code",
   "execution_count": 243,
   "metadata": {},
   "outputs": [
    {
     "name": "stdout",
     "output_type": "stream",
     "text": [
      "[1 0 1]\n",
      "[0 1 0]\n"
     ]
    }
   ],
   "source": [
    "# Python program explaining\n",
    "# numpy.count() function\n",
    " \n",
    "import numpy as np\n",
    " \n",
    "a=np.array(['geeks', 'for', 'geeks'])\n",
    " \n",
    "# counting a substring\n",
    "print(np.char.count(a,'geek'))\n",
    " \n",
    "# counting a substring\n",
    "print(np.char.count(a, 'fo'))"
   ]
  },
  {
   "cell_type": "code",
   "execution_count": 245,
   "metadata": {},
   "outputs": [
    {
     "name": "stdout",
     "output_type": "stream",
     "text": [
      "[ 0 -1  0]\n",
      "[-1  0 -1]\n",
      "False\n",
      "True\n"
     ]
    }
   ],
   "source": [
    "# numpy.rfind() : This function returns the highest index of the substring if found in given string. If not found then it returns -1.\n",
    "\n",
    "# Python program explaining\n",
    "# numpy.rfind() function\n",
    " \n",
    "import numpy as np\n",
    " \n",
    "a=np.array(['geeks', 'for', 'geeks'])\n",
    " \n",
    "# counting a substring\n",
    "print(np.char.rfind(a,'geek'))\n",
    " \n",
    "# counting a substring\n",
    "print(np.char.rfind(a, 'fo'))\n",
    "\n",
    "\n",
    "print(np.char.isnumeric('geeks'))\n",
    " \n",
    "# counting a substring\n",
    "print(np.char.isnumeric('12764'))"
   ]
  },
  {
   "cell_type": "markdown",
   "metadata": {},
   "source": [
    "<!-- numpy.find()\tIt returns the lowest index of the substring if it is found in given string. If its is not found then it returns -1.\n",
    "numpy.index()\tIt returns the position of the first occurrence of substring in a string\n",
    "numpy.isalpha()\tIt returns “True” if all characters in the string are alphabets, Otherwise, It returns “False”.\n",
    "numpy.isdecimal()\tIt returns true if all characters in a string are decimal. If all characters are not decimal then it returns false.\n",
    "numpy.isdigit()\tIt returns “True” if all characters in the string are digits, Otherwise, It returns “False”.\n",
    "numpy.islower()\tIt returns “True” if all characters in the string are lowercase, Otherwise, It returns “False”.\n",
    "numpy.isspace()\tReturns true for each element if there are only whitespace characters in the string and there is at least one character, false otherwise.\n",
    "numpy.istitle()\tReturns true for each element if the element is a titlecased string and there is at least one character, false otherwise.\n",
    "numpy.isupper()\tReturns true for each element if all cased characters in the string are uppercase and there is at least one character, false otherwise.\n",
    "numpy.rindex()\tReturns the highest index of the substring inside the string if substring is found. Otherwise it raises an exception.\n",
    "numpy.startswith()\tReturns True if a string starts with the given prefix otherwise returns False. -->"
   ]
  },
  {
   "cell_type": "code",
   "execution_count": 250,
   "metadata": {},
   "outputs": [
    {
     "name": "stdout",
     "output_type": "stream",
     "text": [
      "False\n",
      "True\n",
      "True\n"
     ]
    }
   ],
   "source": [
    "# comparing a string elementwise\n",
    "# using equal() method\n",
    "a=np.char.equal('geeks','for')\n",
    "print(a)\n",
    "a = np.char.not_equal('geeks', 'for')\n",
    "print(a)\n",
    "a=np.char.greater('geeks','for')\n",
    "print(a)\n",
    "\n",
    "# numpy.greater_equal()\tIt checks whether string1 >= string2 or not.\n",
    "# numpy.less_equal()\tIt checks whether string1 is <= string2 or not.\n",
    "# numpy.less()\tIt check whether string1 is lesser than string2 or not."
   ]
  }
 ],
 "metadata": {
  "kernelspec": {
   "display_name": "Python 3",
   "language": "python",
   "name": "python3"
  },
  "language_info": {
   "codemirror_mode": {
    "name": "ipython",
    "version": 3
   },
   "file_extension": ".py",
   "mimetype": "text/x-python",
   "name": "python",
   "nbconvert_exporter": "python",
   "pygments_lexer": "ipython3",
   "version": "3.9.0"
  }
 },
 "nbformat": 4,
 "nbformat_minor": 2
}
